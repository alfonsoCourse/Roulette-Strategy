{
 "cells": [
  {
   "cell_type": "code",
   "execution_count": 117,
   "id": "e2cfa10e",
   "metadata": {},
   "outputs": [],
   "source": [
    "import random "
   ]
  },
  {
   "cell_type": "code",
   "execution_count": 118,
   "id": "694cefb0",
   "metadata": {},
   "outputs": [],
   "source": [
    "b= 0\n",
    "c = 0\n",
    "d= 0\n",
    "e = 0\n",
    "bet = 10\n",
    "bank = 1000"
   ]
  },
  {
   "cell_type": "code",
   "execution_count": 119,
   "id": "9c6baa8c",
   "metadata": {},
   "outputs": [],
   "source": [
    "#Dictionary\n",
    "Roulette = {\n",
    "    0: \"G\",\n",
    "    1: \"R\",\n",
    "    2: \"B\",\n",
    "    3: \"R\",\n",
    "    4: \"B\",\n",
    "    5: \"R\",\n",
    "    6: \"B\",\n",
    "    7: \"R\",\n",
    "    8: \"B\",\n",
    "    9: \"R\",\n",
    "    10: \"B\",\n",
    "    11: \"B\",\n",
    "    12: \"R\",\n",
    "    13: \"B\", \n",
    "    14: \"R\",\n",
    "    15: \"B\",\n",
    "    16: \"R\",\n",
    "    17: \"B\",\n",
    "    18: \"R\",\n",
    "    19: \"B\",\n",
    "    20: \"B\",\n",
    "    21: \"R\",\n",
    "    22: \"B\",\n",
    "    23: \"R\",\n",
    "    24: \"B\",\n",
    "    25: \"R\",\n",
    "    26: \"B\",\n",
    "    27: \"R\",\n",
    "    28: \"R\",\n",
    "    29: \"B\",\n",
    "    30: \"R\",\n",
    "    31: \"B\",\n",
    "    32: \"R\",\n",
    "    33: \"B\",\n",
    "    34: \"R\",\n",
    "    35: \"B\",\n",
    "    36: \"R\"\n",
    "\n",
    "}"
   ]
  },
  {
   "cell_type": "code",
   "execution_count": null,
   "id": "5d8bcf46",
   "metadata": {},
   "outputs": [],
   "source": []
  },
  {
   "cell_type": "code",
   "execution_count": 136,
   "id": "8e4fc439",
   "metadata": {},
   "outputs": [
    {
     "name": "stdout",
     "output_type": "stream",
     "text": [
      "New bet:  10 B 8 R 9 G 0 Bank 1080\n"
     ]
    }
   ],
   "source": [
    "\n",
    "#while bet < Bank:\n",
    "a = random.randint(0,36)\n",
    "if Roulette[a] == \"B\":\n",
    "    b +=1\n",
    "    bank+=bet\n",
    "    bet= 10\n",
    "    win = True\n",
    "elif Roulette[a]== \"R\":\n",
    "    bank-=bet\n",
    "    bet = bet*2\n",
    "    c += 1\n",
    "elif Roulette[a] == \"G\":\n",
    "        bank-=bet\n",
    "        bet = bet*2\n",
    "        d +=1\n",
    "\n",
    "print(\"New bet: \",bet,\"B\",b,\"R\",c,\"G\",d,\"Bank\",bank)\n"
   ]
  },
  {
   "cell_type": "code",
   "execution_count": 101,
   "id": "5505af35",
   "metadata": {},
   "outputs": [],
   "source": [
    "\n",
    "\n"
   ]
  },
  {
   "cell_type": "code",
   "execution_count": null,
   "id": "640965c5",
   "metadata": {},
   "outputs": [],
   "source": []
  },
  {
   "cell_type": "code",
   "execution_count": null,
   "id": "0371671f",
   "metadata": {},
   "outputs": [],
   "source": []
  }
 ],
 "metadata": {
  "kernelspec": {
   "display_name": "Python 3 (ipykernel)",
   "language": "python",
   "name": "python3"
  },
  "language_info": {
   "codemirror_mode": {
    "name": "ipython",
    "version": 3
   },
   "file_extension": ".py",
   "mimetype": "text/x-python",
   "name": "python",
   "nbconvert_exporter": "python",
   "pygments_lexer": "ipython3",
   "version": "3.9.7"
  }
 },
 "nbformat": 4,
 "nbformat_minor": 5
}
