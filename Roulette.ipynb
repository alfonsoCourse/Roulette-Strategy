{
 "cells": [
  {
   "cell_type": "code",
   "execution_count": 38,
   "id": "9c6baa8c",
   "metadata": {},
   "outputs": [],
   "source": [
    "import random \n",
    "\n",
    "#Dictionary\n",
    "Roulette = {\n",
    "    0: \"G\",\n",
    "    1: \"R\",\n",
    "    2: \"B\",\n",
    "    3: \"R\",\n",
    "    4: \"B\",\n",
    "    5: \"R\",\n",
    "    6: \"B\",\n",
    "    7: \"R\",\n",
    "    8: \"B\",\n",
    "    9: \"R\",\n",
    "    10: \"B\",\n",
    "    11: \"B\",\n",
    "    12: \"R\",\n",
    "    13: \"B\", \n",
    "    14: \"R\",\n",
    "    15: \"B\",\n",
    "    16: \"R\",\n",
    "    17: \"B\",\n",
    "    18: \"R\",\n",
    "    19: \"B\",\n",
    "    20: \"B\",\n",
    "    21: \"R\",\n",
    "    22: \"B\",\n",
    "    23: \"R\",\n",
    "    24: \"B\",\n",
    "    25: \"R\",\n",
    "    26: \"B\",\n",
    "    27: \"R\",\n",
    "    28: \"R\",\n",
    "    29: \"B\",\n",
    "    30: \"R\",\n",
    "    31: \"B\",\n",
    "    32: \"R\",\n",
    "    33: \"B\",\n",
    "    34: \"R\",\n",
    "    35: \"B\",\n",
    "    36: \"R\"\n",
    "\n",
    "}"
   ]
  },
  {
   "cell_type": "code",
   "execution_count": 43,
   "id": "8e4fc439",
   "metadata": {},
   "outputs": [
    {
     "name": "stdout",
     "output_type": "stream",
     "text": [
      "Black:  4929 Red:  4818 Green:  253\n"
     ]
    }
   ],
   "source": [
    "b= 0\n",
    "c = 0\n",
    "d= 0\n",
    "e = 0\n",
    "if Bets < Bank:\n",
    "    while e < 10000:\n",
    "        a = random.randint(0,36)\n",
    "        if Roulette[a] == \"B\":\n",
    "            b +=1\n",
    "        elif Roulette[a]== \"R\":\n",
    "            c += 1\n",
    "        elif Roulette[a] == \"G\":\n",
    "            d +=1\n",
    "        e +=1\n",
    "    print(\"Black: \", b , \"Red: \", c, \"Green: \", d)\n",
    "else \n",
    "print (\"You lost\")"
   ]
  },
  {
   "cell_type": "code",
   "execution_count": 44,
   "id": "5505af35",
   "metadata": {},
   "outputs": [],
   "source": [
    "Bank = 10000\n",
    "Bets = 100\n",
    "Proffit = 0"
   ]
  },
  {
   "cell_type": "code",
   "execution_count": null,
   "id": "640965c5",
   "metadata": {},
   "outputs": [],
   "source": []
  }
 ],
 "metadata": {
  "kernelspec": {
   "display_name": "Python 3 (ipykernel)",
   "language": "python",
   "name": "python3"
  },
  "language_info": {
   "codemirror_mode": {
    "name": "ipython",
    "version": 3
   },
   "file_extension": ".py",
   "mimetype": "text/x-python",
   "name": "python",
   "nbconvert_exporter": "python",
   "pygments_lexer": "ipython3",
   "version": "3.9.7"
  }
 },
 "nbformat": 4,
 "nbformat_minor": 5
}
